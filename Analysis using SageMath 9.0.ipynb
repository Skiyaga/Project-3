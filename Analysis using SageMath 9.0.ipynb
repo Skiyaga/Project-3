{
 "cells": [
  {
   "cell_type": "markdown",
   "metadata": {},
   "source": [
    "## System of differential equations"
   ]
  },
  {
   "cell_type": "markdown",
   "metadata": {},
   "source": [
    "Let’s consider the total population size N(t) split into mutually exclusive groups;\n",
    "- $S(t)$, susceptible\n",
    "- $E(t)$, exposed in latent phase of infection\n",
    "- $I(t)$, symptomatic stage of infection\n",
    "- $R(t)$, recovered and achieve immunity after recovery\n",
    "- $D(t)$, deceased due to the disease"
   ]
  },
  {
   "cell_type": "code",
   "execution_count": 8,
   "metadata": {},
   "outputs": [
    {
     "data": {
      "text/html": [
       "<html><script type=\"math/tex; mode=display\">\\newcommand{\\Bold}[1]{\\mathbf{#1}}-S \\lambda - S \\mu + \\Pi</script></html>"
      ],
      "text/plain": [
       "-S*lambda_ - S*mu + Pi"
      ]
     },
     "metadata": {},
     "output_type": "display_data"
    },
    {
     "data": {
      "text/html": [
       "<html><script type=\"math/tex; mode=display\">\\newcommand{\\Bold}[1]{\\mathbf{#1}}S \\lambda - E {\\left(\\mu + \\sigma\\right)}</script></html>"
      ],
      "text/plain": [
       "S*lambda_ - E*(mu + sigma)"
      ]
     },
     "metadata": {},
     "output_type": "display_data"
    },
    {
     "data": {
      "text/html": [
       "<html><script type=\"math/tex; mode=display\">\\newcommand{\\Bold}[1]{\\mathbf{#1}}-I {\\left(\\alpha + \\mu\\right)} + E \\sigma</script></html>"
      ],
      "text/plain": [
       "-I*(alpha + mu) + E*sigma"
      ]
     },
     "metadata": {},
     "output_type": "display_data"
    },
    {
     "data": {
      "text/html": [
       "<html><script type=\"math/tex; mode=display\">\\newcommand{\\Bold}[1]{\\mathbf{#1}}I \\alpha h - R \\mu</script></html>"
      ],
      "text/plain": [
       "I*alpha*h - R*mu"
      ]
     },
     "metadata": {},
     "output_type": "display_data"
    },
    {
     "data": {
      "text/html": [
       "<html><script type=\"math/tex; mode=display\">\\newcommand{\\Bold}[1]{\\mathbf{#1}}-I \\alpha {\\left(h - 1\\right)} - D \\delta</script></html>"
      ],
      "text/plain": [
       "-I*alpha*(h - 1) - D*delta"
      ]
     },
     "metadata": {},
     "output_type": "display_data"
    }
   ],
   "source": [
    "var('S, E, I, R, D, beta, Pi, mu, tau, sigma, alpha, h, delta, lambda_')\n",
    "\n",
    "N = S+E+I+R+D\n",
    "\n",
    "# system of differential equations\n",
    "\n",
    "#lambda_ = (beta*(I + tau*D)) / (S+E+I+R+D)\n",
    "\n",
    "eqn1 = Pi - (lambda_*S) - (mu*S) ; show(eqn1)\n",
    "\n",
    "eqn2 = (lambda_*S) - ((sigma + mu)*E) ;show(eqn2)\n",
    "\n",
    "eqn3 = (sigma*E) - ((alpha + mu)*I) ; show(eqn3)\n",
    "\n",
    "eqn4 = ((alpha*h)*I) -  mu*R ; show(eqn4)\n",
    "\n",
    "eqn5 = ((1-h)*alpha*I) - (delta*D) ; show(eqn5)\n",
    "\n"
   ]
  },
  {
   "cell_type": "markdown",
   "metadata": {},
   "source": [
    "## Computing disease-free $P_0$ and endemic $P^{**}$ equilibrium points "
   ]
  },
  {
   "cell_type": "markdown",
   "metadata": {},
   "source": [
    "### Stability of disease-free equilibrium"
   ]
  },
  {
   "cell_type": "markdown",
   "metadata": {},
   "source": [
    "\n",
    "In a disease-free equilibrium (DFE), $S^* = \\frac{\\Pi}{\\mu} $ such that;\n",
    "\n",
    "$P_0 = (S^*, E^*, I^*, R^*, D^*) = (\\frac{\\Pi}{\\mu}, 0,0,0,0,0) $\n",
    "\n",
    "Local asymptotic stability of DFE is estabished using the next generation operator method to obtain the the Jacobian matrices $F$ and $V$.\n",
    "\n",
    "The basic reproductive number denoted as $R_0$ is the expected number of secondary cases produced in a completely susceptible population by a typical individual. \n",
    "\n",
    "For a model with more than one infected compartment, the basic reproductive number is defined as the number of new infections produced by a typical infective individual in a population at DFE.\n",
    "\n",
    "Progression of E to I and failure to recover (in this case failure to become fully immune) is not considered a new infection but rather the progression of an infected individual through the various compartments."
   ]
  },
  {
   "cell_type": "code",
   "execution_count": 62,
   "metadata": {},
   "outputs": [],
   "source": [
    "# identify equations with infected groups (E, I, D)\n",
    "\n",
    "lambda_ = beta*(I + tau*D) / N\n",
    "\n",
    "# new infecteds, f\n",
    "f1 = lambda_ * S\n",
    "f2 = 0\n",
    "f3 = 0\n",
    "\n",
    "\n",
    "# other transfer terms out of infectious compartments, v_i\n",
    "v1 = (sigma + mu)*E\n",
    "v2 = ((alpha + mu)*I) - (sigma*E)\n",
    "v3 = (delta*D) - ((1-h)*alpha*I)\n"
   ]
  },
  {
   "cell_type": "code",
   "execution_count": 63,
   "metadata": {},
   "outputs": [],
   "source": [
    "#Jacobian matrices F for new infections\n",
    "fj = jacobian([f1,f2,f3],[I, I, D])\n"
   ]
  },
  {
   "cell_type": "code",
   "execution_count": 64,
   "metadata": {},
   "outputs": [],
   "source": [
    "# Jacobian for other transfer terms\n",
    "\n",
    "vj = jacobian([v1,v2,v3], [E, I, D])"
   ]
  },
  {
   "cell_type": "code",
   "execution_count": 65,
   "metadata": {},
   "outputs": [
    {
     "data": {
      "text/html": [
       "<html><script type=\"math/tex; mode=display\">\\newcommand{\\Bold}[1]{\\mathbf{#1}}\\left(\\begin{array}{rrr}\n",
       "\\beta & \\beta & \\beta \\tau \\\\\n",
       "0 & 0 & 0 \\\\\n",
       "0 & 0 & 0\n",
       "\\end{array}\\right)</script></html>"
      ],
      "text/plain": [
       "[    beta     beta beta*tau]\n",
       "[       0        0        0]\n",
       "[       0        0        0]"
      ]
     },
     "metadata": {},
     "output_type": "display_data"
    },
    {
     "data": {
      "text/html": [
       "<html><script type=\"math/tex; mode=display\">\\newcommand{\\Bold}[1]{\\mathbf{#1}}\\left(\\begin{array}{rrr}\n",
       "\\mu + \\sigma & 0 & 0 \\\\\n",
       "-\\sigma & \\alpha + \\mu & 0 \\\\\n",
       "0 & \\alpha {\\left(h - 1\\right)} & \\delta\n",
       "\\end{array}\\right)</script></html>"
      ],
      "text/plain": [
       "[   mu + sigma             0             0]\n",
       "[       -sigma    alpha + mu             0]\n",
       "[            0 alpha*(h - 1)         delta]"
      ]
     },
     "metadata": {},
     "output_type": "display_data"
    }
   ],
   "source": [
    "# evaluate the Jacobian at DFE\n",
    "F = fj(S = Pi/mu, E=0, I=0, D=0, R=0) ; show(F)\n",
    "\n",
    "V = vj(S = Pi/mu, E=0, I=0, D=0, R=0) ; show(V)"
   ]
  },
  {
   "cell_type": "code",
   "execution_count": 66,
   "metadata": {},
   "outputs": [
    {
     "data": {
      "text/html": [
       "<html><script type=\"math/tex; mode=display\">\\newcommand{\\Bold}[1]{\\mathbf{#1}}\\left(\\begin{array}{rrr}\n",
       "\\frac{1}{\\mu + \\sigma} & 0 & 0 \\\\\n",
       "\\frac{\\sigma}{{\\left(\\alpha + \\mu\\right)} {\\left(\\mu + \\sigma\\right)}} & \\frac{1}{\\alpha + \\mu} & 0 \\\\\n",
       "-\\frac{\\alpha {\\left(h - 1\\right)} \\sigma}{{\\left(\\alpha + \\mu\\right)} \\delta {\\left(\\mu + \\sigma\\right)}} & -\\frac{\\alpha {\\left(h - 1\\right)}}{{\\left(\\alpha + \\mu\\right)} \\delta} & \\frac{1}{\\delta}\n",
       "\\end{array}\\right)</script></html>"
      ],
      "text/plain": [
       "[                                        1/(mu + sigma)                                                      0                                                      0]\n",
       "[                     sigma/((alpha + mu)*(mu + sigma))                                         1/(alpha + mu)                                                      0]\n",
       "[-alpha*(h - 1)*sigma/((alpha + mu)*delta*(mu + sigma))                    -alpha*(h - 1)/((alpha + mu)*delta)                                                1/delta]"
      ]
     },
     "metadata": {},
     "output_type": "display_data"
    }
   ],
   "source": [
    "# inverse of V\n",
    "V_1 = V.inverse() ; show(V_1)"
   ]
  },
  {
   "cell_type": "code",
   "execution_count": 67,
   "metadata": {},
   "outputs": [
    {
     "data": {
      "text/html": [
       "<html><script type=\"math/tex; mode=display\">\\newcommand{\\Bold}[1]{\\mathbf{#1}}\\left(\\begin{array}{rrr}\n",
       "-\\frac{\\alpha \\beta {\\left(h - 1\\right)} \\sigma \\tau}{{\\left(\\alpha + \\mu\\right)} \\delta {\\left(\\mu + \\sigma\\right)}} + \\frac{\\beta}{\\mu + \\sigma} + \\frac{\\beta \\sigma}{{\\left(\\alpha + \\mu\\right)} {\\left(\\mu + \\sigma\\right)}} & -\\frac{\\alpha \\beta {\\left(h - 1\\right)} \\tau}{{\\left(\\alpha + \\mu\\right)} \\delta} + \\frac{\\beta}{\\alpha + \\mu} & \\frac{\\beta \\tau}{\\delta} \\\\\n",
       "0 & 0 & 0 \\\\\n",
       "0 & 0 & 0\n",
       "\\end{array}\\right)</script></html>"
      ],
      "text/plain": [
       "[-alpha*beta*(h - 1)*sigma*tau/((alpha + mu)*delta*(mu + sigma)) + beta/(mu + sigma) + beta*sigma/((alpha + mu)*(mu + sigma))                                                             -alpha*beta*(h - 1)*tau/((alpha + mu)*delta) + beta/(alpha + mu)                                                                                                               beta*tau/delta]\n",
       "[                                                                                                                           0                                                                                                                            0                                                                                                                            0]\n",
       "[                                                                                                                           0                                                                                                                            0                                                                                                                            0]"
      ]
     },
     "metadata": {},
     "output_type": "display_data"
    }
   ],
   "source": [
    "# Next-generation matrix\n",
    "FV_1 = F*V_1 ; show(FV_1)"
   ]
  },
  {
   "cell_type": "code",
   "execution_count": 68,
   "metadata": {},
   "outputs": [
    {
     "data": {
      "text/html": [
       "<html><script type=\"math/tex; mode=display\">\\newcommand{\\Bold}[1]{\\mathbf{#1}}\\left[\\frac{\\alpha \\beta \\delta + \\beta \\delta \\mu + \\beta \\delta \\sigma - {\\left(\\alpha \\beta h - \\alpha \\beta\\right)} \\sigma \\tau}{\\alpha \\delta \\mu + \\delta \\mu^{2} + {\\left(\\alpha \\delta + \\delta \\mu\\right)} \\sigma}, 0, 0\\right]</script></html>"
      ],
      "text/plain": [
       "[(alpha*beta*delta + beta*delta*mu + beta*delta*sigma - (alpha*beta*h - alpha*beta)*sigma*tau)/(alpha*delta*mu + delta*mu^2 + (alpha*delta + delta*mu)*sigma),\n",
       " 0,\n",
       " 0]"
      ]
     },
     "metadata": {},
     "output_type": "display_data"
    }
   ],
   "source": [
    "# eigen values of FV_1 of which R0 is the maximum\n",
    "eigen_val = FV_1.eigenvalues() ; show(eigen_val)"
   ]
  },
  {
   "cell_type": "code",
   "execution_count": 69,
   "metadata": {},
   "outputs": [
    {
     "data": {
      "text/html": [
       "<html><script type=\"math/tex; mode=display\">\\newcommand{\\Bold}[1]{\\mathbf{#1}}\\frac{\\alpha \\beta \\delta + \\beta \\delta \\mu + \\beta \\delta \\sigma - {\\left(\\alpha \\beta h - \\alpha \\beta\\right)} \\sigma \\tau}{\\alpha \\delta \\mu + \\delta \\mu^{2} + {\\left(\\alpha \\delta + \\delta \\mu\\right)} \\sigma}</script></html>"
      ],
      "text/plain": [
       "(alpha*beta*delta + beta*delta*mu + beta*delta*sigma - (alpha*beta*h - alpha*beta)*sigma*tau)/(alpha*delta*mu + delta*mu^2 + (alpha*delta + delta*mu)*sigma)"
      ]
     },
     "metadata": {},
     "output_type": "display_data"
    }
   ],
   "source": [
    "R_0 = eigen_val[0].simplify_full() ; show(R_0)"
   ]
  },
  {
   "cell_type": "markdown",
   "metadata": {},
   "source": [
    "### Existence of endemic equilibrium <br/>\n",
    "\n",
    "Let $P_1 = (S^{**}, E^{**}, I^{**}, R^{**}, D^{**})$ <br/>\n",
    "\n",
    "Conditions for which the virus is endemic in the community is obtained when at least one of the infected variables is non zero <br/>\n",
    "\n",
    "$\\lambda^{**} = \\frac{\\beta(I^{**}+ \\tau*D^{**})}{S^{**} + E^{**} + I^{**} + R^{**} + D^{**}}$"
   ]
  },
  {
   "cell_type": "code",
   "execution_count": 20,
   "metadata": {},
   "outputs": [
    {
     "data": {
      "text/html": [
       "<html><script type=\"math/tex; mode=display\">\\newcommand{\\Bold}[1]{\\mathbf{#1}}\\left[\\left[S = \\frac{\\Pi}{\\lambda + \\mu}, E = \\frac{\\Pi \\lambda}{{\\left(\\lambda + \\sigma\\right)} \\mu + \\mu^{2} + \\lambda \\sigma}, I = \\frac{\\Pi \\lambda \\sigma}{{\\left(\\alpha + \\lambda + \\sigma\\right)} \\mu^{2} + \\mu^{3} + \\alpha \\lambda \\sigma + {\\left({\\left(\\alpha + \\sigma\\right)} \\lambda + \\alpha \\sigma\\right)} \\mu}, R = \\frac{\\Pi \\alpha h \\lambda \\sigma}{{\\left(\\alpha + \\lambda + \\sigma\\right)} \\mu^{3} + \\mu^{4} + \\alpha \\lambda \\mu \\sigma + {\\left({\\left(\\alpha + \\sigma\\right)} \\lambda + \\alpha \\sigma\\right)} \\mu^{2}}, D = -\\frac{\\Pi \\alpha {\\left(h - 1\\right)} \\lambda \\sigma}{\\delta \\mu^{3} + \\alpha \\delta \\lambda \\sigma + {\\left(\\alpha \\delta + \\delta \\lambda + \\delta \\sigma\\right)} \\mu^{2} + {\\left(\\alpha \\delta \\sigma + {\\left(\\alpha \\delta + \\delta \\sigma\\right)} \\lambda\\right)} \\mu}\\right]\\right]</script></html>"
      ],
      "text/plain": [
       "[[S == Pi/(lambda_ + mu), E == Pi*lambda_/((lambda_ + sigma)*mu + mu^2 + lambda_*sigma), I == Pi*lambda_*sigma/((alpha + lambda_ + sigma)*mu^2 + mu^3 + alpha*lambda_*sigma + ((alpha + sigma)*lambda_ + alpha*sigma)*mu), R == Pi*alpha*h*lambda_*sigma/((alpha + lambda_ + sigma)*mu^3 + mu^4 + alpha*lambda_*mu*sigma + ((alpha + sigma)*lambda_ + alpha*sigma)*mu^2), D == -Pi*alpha*(h - 1)*lambda_*sigma/(delta*mu^3 + alpha*delta*lambda_*sigma + (alpha*delta + delta*lambda_ + delta*sigma)*mu^2 + (alpha*delta*sigma + (alpha*delta + delta*sigma)*lambda_)*mu)]]"
      ]
     },
     "metadata": {},
     "output_type": "display_data"
    }
   ],
   "source": [
    "solve(eqn1==0, eqn2==0, eqn3==0, eqn4==0, eqn5==0); show(soln)"
   ]
  },
  {
   "cell_type": "code",
   "execution_count": null,
   "metadata": {},
   "outputs": [],
   "source": []
  }
 ],
 "metadata": {
  "kernelspec": {
   "display_name": "SageMath 9.0",
   "language": "sage",
   "name": "sagemath"
  },
  "language_info": {
   "codemirror_mode": {
    "name": "ipython",
    "version": 3
   },
   "file_extension": ".py",
   "mimetype": "text/x-python",
   "name": "python",
   "nbconvert_exporter": "python",
   "pygments_lexer": "ipython3",
   "version": "3.7.3"
  }
 },
 "nbformat": 4,
 "nbformat_minor": 4
}
